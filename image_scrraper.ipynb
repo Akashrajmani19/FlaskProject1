{
 "cells": [
  {
   "cell_type": "code",
   "execution_count": 3,
   "metadata": {},
   "outputs": [],
   "source": [
    "import requests\n",
    "import logging\n",
    "import os\n",
    "from bs4 import BeautifulSoup\n",
    "from urllib.request import urlopen"
   ]
  },
  {
   "cell_type": "code",
   "execution_count": 4,
   "metadata": {},
   "outputs": [],
   "source": [
    "save_dir = \"images/\"\n",
    "if not  os.path.exists(save_dir):\n",
    "    os.makedirs(save_dir)"
   ]
  },
  {
   "cell_type": "code",
   "execution_count": 30,
   "metadata": {},
   "outputs": [],
   "source": [
    "query = \"virat kholi\"\n",
    "url = f\"https://www.google.co.in/search?q={query}&tbm=isch&ved=2ahUKEwiFypqcy7WAAxVZ7DgGHcnCDSQQ2-cCegQIABAA&oq=elon+musk&gs_lcp=CgNpbWcQAzIKCAAQigUQsQMQQzIICAAQgAQQsQMyCggAEIoFELEDEEMyCggAEIoFELEDEEMyCAgAEIAEELEDMggIABCABBCxAzIICAAQgAQQsQMyCAgAEIAEELEDMggIABCABBCxAzIICAAQgAQQsQM6DQgAEIoFELEDEIMBEEM6BAgAEAM6CwgAEIAEELEDEIMBOgUIABCABDoICAAQsQMQgwE6BwgAEIoFEENQ9wlY4Rhg7hxoAHAAeACAAYIBiAGSCZIBBDAuMTCYAQCgAQGqAQtnd3Mtd2l6LWltZ8ABAQ&sclient=img&ei=LubFZIX7DNnY4-EPyYW3oAI&bih=714&biw=1482\""
   ]
  },
  {
   "cell_type": "code",
   "execution_count": 31,
   "metadata": {},
   "outputs": [],
   "source": [
    "response = requests.get(url)"
   ]
  },
  {
   "cell_type": "code",
   "execution_count": 32,
   "metadata": {},
   "outputs": [],
   "source": [
    "Soup=BeautifulSoup(response.content,\"html.parser\")"
   ]
  },
  {
   "cell_type": "code",
   "execution_count": 33,
   "metadata": {},
   "outputs": [
    {
     "data": {
      "text/plain": [
       "<!DOCTYPE html PUBLIC \"-//WAPFORUM//DTD XHTML Mobile 1.0//EN\" \"http://www.wapforum.org/DTD/xhtml-mobile10.dtd\">\n",
       "<html lang=\"en-IN\" xmlns=\"http://www.w3.org/1999/xhtml\"><head><meta content=\"application/xhtml+xml; charset=utf-8\" http-equiv=\"Content-Type\"/><meta content=\"no-cache\" name=\"Cache-Control\"/><title>virat kholi - Google Search</title><style>a{text-decoration:none;color:inherit}a:hover{text-decoration:underline}a img{border:0}body{font-family:arial,sans-serif;padding:8px;margin:0 auto;max-width:700px;min-width:240px;}.FbhRzb{border-left:thin solid #dadce0;border-right:thin solid #dadce0;border-top:thin solid #dadce0;height:40px;overflow:hidden}.n692Zd{margin-bottom:10px}.cvifge{height:40px;border-spacing:0}.QvGUP{height:40px;padding:0 8px 0 8px;vertical-align:top}.O4cRJf{height:40px;width:100%;padding:0;padding-right:16px}.O1ePr{height:40px;padding:0;vertical-align:top}.kgJEQe{height:36px;width:98px;vertical-align:top;margin-top:4px}.lXLRf{vertical-align:top}.MhzMZd{border:0;vertical-align:middle;font-size:14px;height:40px;padding:0;width:100%;padding-left:16px}.xB0fq{height:40px;border:none;font-size:14px;background-color:#1a73e8;color:#fff;padding:0 16px;margin:0;vertical-align:top;cursor:pointer}.xB0fq:focus{border:1px solid #1a73e8}.M7pB2{border:thin solid #dadce0;margin:0 0 3px 0;font-size:13px;font-weight:500;height:40px}.euZec{width:100%;height:40px;text-align:center;border-spacing:0}table.euZec td{padding:0;width:25%}.QIqI7{display:inline-block;padding-top:4px;font-weight:bold;color:#4285f4}.EY24We{border-bottom:2px solid #4285f4}.CsQyDc{display:inline-block;color:#70757a}.TuS8Ad{font-size:14px}.HddGcc{padding:8px;color:#70757a}.dzp8ae{font-weight:bold;color:#3c4043}.rEM8G{color:#70757a}.bookcf{table-layout:fixed;width:100%;border-spacing:0}.InWNIe{text-align:center}.uZgmoc{border:thin solid #dadce0;color:#70757a;font-size:14px;text-align:center;table-layout:fixed;width:100%}.frGj1b{display:block;padding:12px 0 12px 0;width:100%}.BnJWBc{text-align:center;padding:6px 0 13px 0;height:35px}.e3goi{vertical-align:top;padding:0;height:180px}.GpQGbf{margin:auto;border-collapse:collapse;border-spacing:0;width:100%}</style></head><body><style>.X6ZCif{color:#202124;font-size:11px;line-height:16px;display:inline-block;padding-top:2px;overflow:hidden;padding-bottom:4px;width:100%}.TwVfHd{border-radius:16px;border:thin solid #dadce0;display:inline-block;padding:8px 8px;margin-right:8px;margin-bottom:4px}.yekiAe{background-color:#dadce0}.ezO2md{border:thin solid #dadce0;padding:12px 16px 12px 16px;margin-bottom:10px;font-family:arial,sans-serif}.lIMUZd{font-family:arial,sans-serif}.kk667b{padding-bottom:12px}.Mw6wOc{width:100%;border-spacing:0}.fBgPuf{padding-bottom:12px}.K3JWGf{display:block;float:right;padding-left:16px;max-width:72px;max-height:72px}.CSfvHb{padding-bottom:8px}.fYyStc{word-break:break-word}.ynsChf{display:block;white-space:nowrap;overflow:hidden;text-overflow:ellipsis}.Fj3V3b{color:#1967d2;font-size:14px;line-height:20px}.FrIlee{color:#202124;font-size:11px;line-height:16px}.F9iS2e{color:#70757a;font-size:11px;line-height:16px}.WMQ2Le{color:#70757a;font-size:12px;line-height:16px}.x3G5ab{color:#202124;font-size:12px;line-height:16px}.fuLhoc{color:#1967d2;font-size:16px;line-height:20px}.epoveb{font-size:24px;line-height:28px;font-weight:400;color:#202124}.dXDvrc{color:#0d652d;font-size:14px;line-height:20px;word-wrap:break-word}.dloBPe{font-weight:bold}.YVIcad{color:#70757a}.JkVVdd{color:#ea4335}.oXZRFd{color:#ea4335}.MQHtg{color:#fbbc04}.pyMRrb{color:#1e8e3e}.EtTZid{color:#1e8e3e}.M3vVJe{color:#1967d2}.qXLe6d{display:block}.NHQNef{font-style:italic}.Cb8Z7c{white-space:pre}a.ZWRArf{text-decoration:none}a .CVA68e:hover{text-decoration:underline}.mnTahd{width:100%}.IkMU6e{border-spacing:0}.SjCsie{width:100%}.EnarA{text-align:center}.NZWO1b{width:162px;height:140px;line-height:140px;overflow:'hidden';text-align:center}.yWs4tf{text-align:center;margin:auto;vertical-align:middle;max-width:162px;max-height:140px}.jB2rPd{padding-top:2px;padding-bottom:8px;}</style><div class=\"n692Zd\"><div class=\"BnJWBc\"><a class=\"lXLRf\" href=\"/?bih=714&amp;biw=1482&amp;output=images&amp;ie=UTF-8&amp;tbm=isch&amp;sa=X&amp;ved=0ahUKEwjB4ffV0rWAAxXT1DgGHbDJB5YQPAgC\"><img alt=\"Google\" class=\"kgJEQe\" src=\"/images/branding/searchlogo/1x/googlelogo_desk_heirloom_color_150x55dp.gif\"/></a></div><div class=\"FbhRzb\"><form action=\"/search\"><input name=\"bih\" type=\"hidden\" value=\"714\"/><input name=\"biw\" type=\"hidden\" value=\"1482\"/><input name=\"ie\" type=\"hidden\" value=\"ISO-8859-1\"/><input name=\"tbm\" type=\"hidden\" value=\"isch\"/><input name=\"oq\" type=\"hidden\"/><input name=\"aqs\" type=\"hidden\"/><table class=\"cvifge\"><tr><td class=\"O4cRJf\"><input class=\"MhzMZd\" name=\"q\" type=\"text\" value=\"virat kholi\"/></td><td class=\"O1ePr\"><input class=\"xB0fq\" type=\"submit\" value=\"Search\"/></td></tr></table></form></div><div class=\"M7pB2\"><table class=\"euZec\"><tbody><tr><td><a class=\"CsQyDc\" href=\"/search?q=virat+kohli&amp;bih=714&amp;biw=1482&amp;ie=UTF-8&amp;source=lnms&amp;sa=X&amp;ved=0ahUKEwjB4ffV0rWAAxXT1DgGHbDJB5YQ_AUIBCgA\">ALL</a></td><td><a class=\"CsQyDc\" href=\"/search?q=virat+kohli&amp;bih=714&amp;biw=1482&amp;ie=UTF-8&amp;tbm=nws&amp;source=lnms&amp;sa=X&amp;ved=0ahUKEwjB4ffV0rWAAxXT1DgGHbDJB5YQ_AUIBSgB\">NEWS</a></td><td class=\"EY24We\"><span class=\"QIqI7\">IMAGES</span></td><td><a class=\"CsQyDc\" href=\"/search?q=virat+kohli&amp;bih=714&amp;biw=1482&amp;ie=UTF-8&amp;tbm=vid&amp;source=lnms&amp;sa=X&amp;ved=0ahUKEwjB4ffV0rWAAxXT1DgGHbDJB5YQ_AUIBygD\">VIDEOS</a></td></tr></tbody></table></div></div><div class=\"X6ZCif\"><a class=\"TwVfHd\" href=\"/search?bih=714&amp;biw=1482&amp;ie=UTF-8&amp;tbm=isch&amp;q=virat+kohli&amp;chips=q:virat+kholi,g_1:wallpaper&amp;sa=X&amp;ved=0ahUKEwjB4ffV0rWAAxXT1DgGHbDJB5YQ4lYICygA\">wallpaper</a><a class=\"TwVfHd\" href=\"/search?bih=714&amp;biw=1482&amp;ie=UTF-8&amp;tbm=isch&amp;q=virat+kohli&amp;chips=q:virat+kholi,g_1:hair+style&amp;sa=X&amp;ved=0ahUKEwjB4ffV0rWAAxXT1DgGHbDJB5YQ4lYIDCgB\">hair style</a><a class=\"TwVfHd\" href=\"/search?bih=714&amp;biw=1482&amp;ie=UTF-8&amp;tbm=isch&amp;q=virat+kohli&amp;chips=q:virat+kholi,g_1:beard&amp;sa=X&amp;ved=0ahUKEwjB4ffV0rWAAxXT1DgGHbDJB5YQ4lYIDSgC\">beard</a><a class=\"TwVfHd\" href=\"/search?bih=714&amp;biw=1482&amp;ie=UTF-8&amp;tbm=isch&amp;q=virat+kohli&amp;chips=q:virat+kholi,g_1:new+look&amp;sa=X&amp;ved=0ahUKEwjB4ffV0rWAAxXT1DgGHbDJB5YQ4lYIDigD\">new look</a><a class=\"TwVfHd\" href=\"/search?bih=714&amp;biw=1482&amp;ie=UTF-8&amp;tbm=isch&amp;q=virat+kohli&amp;chips=q:virat+kholi,g_1:sketch&amp;sa=X&amp;ved=0ahUKEwjB4ffV0rWAAxXT1DgGHbDJB5YQ4lYIDygE\">sketch</a><a class=\"TwVfHd\" href=\"/search?bih=714&amp;biw=1482&amp;ie=UTF-8&amp;tbm=isch&amp;q=virat+kohli&amp;chips=q:virat+kholi,g_1:wedding&amp;sa=X&amp;ved=0ahUKEwjB4ffV0rWAAxXT1DgGHbDJB5YQ4lYIECgF\">wedding</a><a class=\"TwVfHd\" href=\"/search?bih=714&amp;biw=1482&amp;ie=UTF-8&amp;tbm=isch&amp;q=virat+kohli&amp;chips=q:virat+kholi,g_1:century&amp;sa=X&amp;ved=0ahUKEwjB4ffV0rWAAxXT1DgGHbDJB5YQ4lYIESgG\">century</a><a class=\"TwVfHd\" href=\"/search?bih=714&amp;biw=1482&amp;ie=UTF-8&amp;tbm=isch&amp;q=virat+kohli&amp;chips=q:virat+kholi,g_1:jersey&amp;sa=X&amp;ved=0ahUKEwjB4ffV0rWAAxXT1DgGHbDJB5YQ4lYIEigH\">jersey</a><a class=\"TwVfHd\" href=\"/search?bih=714&amp;biw=1482&amp;ie=UTF-8&amp;tbm=isch&amp;q=virat+kohli&amp;chips=q:virat+kholi,g_1:smart&amp;sa=X&amp;ved=0ahUKEwjB4ffV0rWAAxXT1DgGHbDJB5YQ4lYIEygI\">smart</a><a class=\"TwVfHd\" href=\"/search?bih=714&amp;biw=1482&amp;ie=UTF-8&amp;tbm=isch&amp;q=virat+kohli&amp;chips=q:virat+kholi,g_1:team&amp;sa=X&amp;ved=0ahUKEwjB4ffV0rWAAxXT1DgGHbDJB5YQ4lYIFCgJ\">team</a></div><div><div> <div> <div class=\"lIMUZd\"><div><table class=\"Mw6wOc\"><tbody><tr><td><div> <div> <span class=\"qXLe6d F9iS2e\"> <span class=\"fYyStc\">Showing results for </span> <a class=\"dloBPe M3vVJe\" href=\"/search?bih=714&amp;biw=1482&amp;ie=UTF-8&amp;tbm=isch&amp;q=virat+kohli&amp;spell=1&amp;sa=X&amp;ved=2ahUKEwjB4ffV0rWAAxXT1DgGHbDJB5YQvwV6BAgUEAE\">virat kohli</a> <span class=\"fYyStc\">\n",
       "</span> <span class=\"fYyStc\">Search instead for </span> <a class=\"M3vVJe\" href=\"/search?bih=714&amp;biw=1482&amp;ie=UTF-8&amp;tbm=isch&amp;q=virat+kholi&amp;nfpr=1&amp;sa=X&amp;ved=2ahUKEwjB4ffV0rWAAxXT1DgGHbDJB5YQvgV6BAgUEAI\">virat kholi</a> </span> </div> </div></td></tr></tbody></table></div></div> </div> </div><table class=\"GpQGbf\"><tr><td align=\"center\" class=\"e3goi\"><div class=\"mnTahd\"> <div> <div class=\"lIMUZd\"><div><table class=\"IkMU6e\"><tr><td><a href=\"/url?q=https://en.wikipedia.org/wiki/Virat_Kohli&amp;sa=U&amp;ved=2ahUKEwjB4ffV0rWAAxXT1DgGHbDJB5YQqoUBegQIAxAB&amp;usg=AOvVaw2Ob4EFt_kFiHzNNbwFH5JU\"><div class=\"NZWO1b\"><img alt=\"\" class=\"yWs4tf\" src=\"https://encrypted-tbn0.gstatic.com/images?q=tbn:ANd9GcSApOD8cC7Jh33c0VqbcFkcmx0og9wr1DYsD50a8Tp3p-0I33M_SuuLXA0Kizk&amp;s\"/></div></a></td></tr><tr><td><a href=\"/url?q=https://en.wikipedia.org/wiki/Virat_Kohli&amp;sa=U&amp;ved=2ahUKEwjB4ffV0rWAAxXT1DgGHbDJB5YQr4kDegQIAxAC&amp;usg=AOvVaw39BDi3lX7EqOOg2wxWvZF1\"><div class=\"jB2rPd\"> <span class=\"qXLe6d x3G5ab\"> <span class=\"fYyStc\">Virat Kohli - Wikipedia</span> </span> <span class=\"qXLe6d F9iS2e\"> <span class=\"fYyStc\">en.wikipedia.org</span> </span> </div></a></td></tr></table></div></div> </div> </div></td><td align=\"center\" class=\"e3goi\"><div class=\"mnTahd\"> <div> <div class=\"lIMUZd\"><div><table class=\"IkMU6e\"><tr><td><a href=\"/url?q=https://m.timesofindia.com/sports/cricket/india-in-west-indies/virat-kohli-can-score-as-quickly-as-guys-you-call-six-hitters-curtly-ambrose/articleshow/102223510.cms&amp;sa=U&amp;ved=2ahUKEwjB4ffV0rWAAxXT1DgGHbDJB5YQqoUBegQIExAB&amp;usg=AOvVaw1xB1397KETU5f87twYSsYn\"><div class=\"NZWO1b\"><img alt=\"\" class=\"yWs4tf\" src=\"https://encrypted-tbn0.gstatic.com/images?q=tbn:ANd9GcS9C58BNcMmQwtKOOVPr2QxPHvO0WyNIRF5XejM_bsxPzCH1IyGGEB2t2o2tlg&amp;s\"/></div></a></td></tr><tr><td><a href=\"/url?q=https://m.timesofindia.com/sports/cricket/india-in-west-indies/virat-kohli-can-score-as-quickly-as-guys-you-call-six-hitters-curtly-ambrose/articleshow/102223510.cms&amp;sa=U&amp;ved=2ahUKEwjB4ffV0rWAAxXT1DgGHbDJB5YQr4kDegQIExAC&amp;usg=AOvVaw2PfS6nX0ZjUmsXLeuzedWe\"><div class=\"jB2rPd\"> <span class=\"qXLe6d x3G5ab\"> <span class=\"fYyStc\">Virat Kohli can score as...</span> </span> <span class=\"qXLe6d F9iS2e\"> <span class=\"fYyStc\">m.timesofindia.com</span> </span> </div></a></td></tr></table></div></div> </div> </div></td><td align=\"center\" class=\"e3goi\"><div class=\"mnTahd\"> <div> <div class=\"lIMUZd\"><div><table class=\"IkMU6e\"><tr><td><a href=\"/url?q=https://m.timesofindia.com/sports/cricket/india-in-west-indies/india-vs-west-indies-irked-rohit-sharma-dismisses-concern-over-virat-kohlis-overseas-test-form-as-outside-talks/articleshow/102161934.cms&amp;sa=U&amp;ved=2ahUKEwjB4ffV0rWAAxXT1DgGHbDJB5YQqoUBegQIEhAB&amp;usg=AOvVaw2ECOltgmixzhJ7mynSjVbD\"><div class=\"NZWO1b\"><img alt=\"\" class=\"yWs4tf\" src=\"https://encrypted-tbn0.gstatic.com/images?q=tbn:ANd9GcQCfkyyXvEcnRtcJK8pjwyUIUlRY2u0Dc29_uLZWlfkNwlm4eScqvZgTCz0w7I&amp;s\"/></div></a></td></tr><tr><td><a href=\"/url?q=https://m.timesofindia.com/sports/cricket/india-in-west-indies/india-vs-west-indies-irked-rohit-sharma-dismisses-concern-over-virat-kohlis-overseas-test-form-as-outside-talks/articleshow/102161934.cms&amp;sa=U&amp;ved=2ahUKEwjB4ffV0rWAAxXT1DgGHbDJB5YQr4kDegQIEhAC&amp;usg=AOvVaw0SS3LrQjeubTBdvY5pCKVS\"><div class=\"jB2rPd\"> <span class=\"qXLe6d x3G5ab\"> <span class=\"fYyStc\">India vs West Indies: Irked...</span> </span> <span class=\"qXLe6d F9iS2e\"> <span class=\"fYyStc\">m.timesofindia.com</span> </span> </div></a></td></tr></table></div></div> </div> </div></td><td align=\"center\" class=\"e3goi\"><div class=\"mnTahd\"> <div> <div class=\"lIMUZd\"><div><table class=\"IkMU6e\"><tr><td><a href=\"/url?q=https://www.zeebiz.com/web-stories/trending/sports/sachin-tendulkar-vs-virat-kohli-records-after-500-international-matches-runs-100s-50s-average-1690300926080&amp;sa=U&amp;ved=2ahUKEwjB4ffV0rWAAxXT1DgGHbDJB5YQqoUBegQIDxAB&amp;usg=AOvVaw0k3x4MddYvxJ2p65Qv7p4D\"><div class=\"NZWO1b\"><img alt=\"\" class=\"yWs4tf\" src=\"https://encrypted-tbn0.gstatic.com/images?q=tbn:ANd9GcSDzghEWlDVR4HINdcej04lBxbi1aoTL_CPHZh2TfFntrG95uCrdJ1ObDS4cA&amp;s\"/></div></a></td></tr><tr><td><a href=\"/url?q=https://www.zeebiz.com/web-stories/trending/sports/sachin-tendulkar-vs-virat-kohli-records-after-500-international-matches-runs-100s-50s-average-1690300926080&amp;sa=U&amp;ved=2ahUKEwjB4ffV0rWAAxXT1DgGHbDJB5YQr4kDegQIDxAC&amp;usg=AOvVaw1zEo0AG81-6TX0-JRiBT31\"><div class=\"jB2rPd\"> <span class=\"qXLe6d x3G5ab\"> <span class=\"fYyStc\">Virat Kohli vs Sachin...</span> </span> <span class=\"qXLe6d F9iS2e\"> <span class=\"fYyStc\">www.zeebiz.com</span> </span> </div></a></td></tr></table></div></div> </div> </div></td></tr><tr><td align=\"center\" class=\"e3goi\"><div class=\"mnTahd\"> <div> <div class=\"lIMUZd\"><div><table class=\"IkMU6e\"><tr><td><a href=\"/url?q=https://www.dnaindia.com/technology/report-virat-kohli-uses-rs-20000-apple-earbuds-that-aren-t-available-in-india-not-apple-airpods-pro-3053376&amp;sa=U&amp;ved=2ahUKEwjB4ffV0rWAAxXT1DgGHbDJB5YQqoUBegQIERAB&amp;usg=AOvVaw38WLcYnPUmOL1lOyi6QaAa\"><div class=\"NZWO1b\"><img alt=\"\" class=\"yWs4tf\" src=\"https://encrypted-tbn0.gstatic.com/images?q=tbn:ANd9GcRZJo33H9n0_WI5mo6qPjFFxMNOnC6gKTatQcX4aVQVlSZDmBsXBdfl3W__mw&amp;s\"/></div></a></td></tr><tr><td><a href=\"/url?q=https://www.dnaindia.com/technology/report-virat-kohli-uses-rs-20000-apple-earbuds-that-aren-t-available-in-india-not-apple-airpods-pro-3053376&amp;sa=U&amp;ved=2ahUKEwjB4ffV0rWAAxXT1DgGHbDJB5YQr4kDegQIERAC&amp;usg=AOvVaw2w0YAffSWhUCfsa2V6m_JE\"><div class=\"jB2rPd\"> <span class=\"qXLe6d x3G5ab\"> <span class=\"fYyStc\">Virat Kohli uses Rs 20,000...</span> </span> <span class=\"qXLe6d F9iS2e\"> <span class=\"fYyStc\">www.dnaindia.com</span> </span> </div></a></td></tr></table></div></div> </div> </div></td><td align=\"center\" class=\"e3goi\"><div class=\"mnTahd\"> <div> <div class=\"lIMUZd\"><div><table class=\"IkMU6e\"><tr><td><a href=\"/url?q=https://www.timesnownews.com/viral/virat-kohli-doppelganger-fans-mistake-haryana-man-kartik-sharma-lookalike-viral-video-article-102196424&amp;sa=U&amp;ved=2ahUKEwjB4ffV0rWAAxXT1DgGHbDJB5YQqoUBegQIEBAB&amp;usg=AOvVaw064zU2emi0ZdtIsaMiFNBH\"><div class=\"NZWO1b\"><img alt=\"\" class=\"yWs4tf\" src=\"https://encrypted-tbn0.gstatic.com/images?q=tbn:ANd9GcRxlnSKBB-rt4QOMMJQGrXOOsqG6yPbmCwEqBEqHkkvt8AV2DTnkCMAHsro4qc&amp;s\"/></div></a></td></tr><tr><td><a href=\"/url?q=https://www.timesnownews.com/viral/virat-kohli-doppelganger-fans-mistake-haryana-man-kartik-sharma-lookalike-viral-video-article-102196424&amp;sa=U&amp;ved=2ahUKEwjB4ffV0rWAAxXT1DgGHbDJB5YQr4kDegQIEBAC&amp;usg=AOvVaw2VU4zAMgSyxz-mhp5wmy-4\"><div class=\"jB2rPd\"> <span class=\"qXLe6d x3G5ab\"> <span class=\"fYyStc\">Doppelganger Alert! Fans...</span> </span> <span class=\"qXLe6d F9iS2e\"> <span class=\"fYyStc\">www.timesnownews.com</span> </span> </div></a></td></tr></table></div></div> </div> </div></td><td align=\"center\" class=\"e3goi\"><div class=\"mnTahd\"> <div> <div class=\"lIMUZd\"><div><table class=\"IkMU6e\"><tr><td><a href=\"/url?q=https://sports.ndtv.com/cricket/virat-kohli-once-apologised-thrice-to-zaheer-khan-during-one-game-ishant-sharma-reveals-why-4239925&amp;sa=U&amp;ved=2ahUKEwjB4ffV0rWAAxXT1DgGHbDJB5YQqoUBegQICxAB&amp;usg=AOvVaw2i9WBWjyX_RW9L7ERivUls\"><div class=\"NZWO1b\"><img alt=\"\" class=\"yWs4tf\" src=\"https://encrypted-tbn0.gstatic.com/images?q=tbn:ANd9GcTQisRy9KKPpaR789gUkso2hXdR_nmiUys7sAz5OBHssfxQcCNVOkVb8LmRZQ&amp;s\"/></div></a></td></tr><tr><td><a href=\"/url?q=https://sports.ndtv.com/cricket/virat-kohli-once-apologised-thrice-to-zaheer-khan-during-one-game-ishant-sharma-reveals-why-4239925&amp;sa=U&amp;ved=2ahUKEwjB4ffV0rWAAxXT1DgGHbDJB5YQr4kDegQICxAC&amp;usg=AOvVaw3beQ_z5JHZU-xRruylvTD7\"><div class=\"jB2rPd\"> <span class=\"qXLe6d x3G5ab\"> <span class=\"fYyStc\">Virat Kohli Once Apologised...</span> </span> <span class=\"qXLe6d F9iS2e\"> <span class=\"fYyStc\">sports.ndtv.com</span> </span> </div></a></td></tr></table></div></div> </div> </div></td><td align=\"center\" class=\"e3goi\"><div class=\"mnTahd\"> <div> <div class=\"lIMUZd\"><div><table class=\"IkMU6e\"><tr><td><a href=\"/url?q=https://www.timesnownews.com/web-stories/sports/sachin-records-that-virat-kohli-can-break-before-he-retires/photostory/102181721.cms&amp;sa=U&amp;ved=2ahUKEwjB4ffV0rWAAxXT1DgGHbDJB5YQqoUBegQIDBAB&amp;usg=AOvVaw1StP0eDDUZI5VUKiFjyBi1\"><div class=\"NZWO1b\"><img alt=\"\" class=\"yWs4tf\" src=\"https://encrypted-tbn0.gstatic.com/images?q=tbn:ANd9GcRaA9tOiDkcFIEnon99DX1fCf3rtk0yCtEm3i8iC5SYFS66OmKNWNI0vaQKTg&amp;s\"/></div></a></td></tr><tr><td><a href=\"/url?q=https://www.timesnownews.com/web-stories/sports/sachin-records-that-virat-kohli-can-break-before-he-retires/photostory/102181721.cms&amp;sa=U&amp;ved=2ahUKEwjB4ffV0rWAAxXT1DgGHbDJB5YQr4kDegQIDBAC&amp;usg=AOvVaw0i_kYJ9VUrNaEDMg_zvn9q\"><div class=\"jB2rPd\"> <span class=\"qXLe6d x3G5ab\"> <span class=\"fYyStc\">Sachin's records that Virat...</span> </span> <span class=\"qXLe6d F9iS2e\"> <span class=\"fYyStc\">www.timesnownews.com</span> </span> </div></a></td></tr></table></div></div> </div> </div></td></tr><tr><td align=\"center\" class=\"e3goi\"><div class=\"mnTahd\"> <div> <div class=\"lIMUZd\"><div><table class=\"IkMU6e\"><tr><td><a href=\"/url?q=https://timesofindia.indiatimes.com/sports/cricket/india-in-bangladesh/virat-kohli-slams-72nd-international-ton-surpasses-ricky-ponting-to-go-second-behind-sachin-tendulkar/articleshow/96131593.cms&amp;sa=U&amp;ved=2ahUKEwjB4ffV0rWAAxXT1DgGHbDJB5YQqoUBegQIChAB&amp;usg=AOvVaw1G7dt53Ds0UB2XStylVI7p\"><div class=\"NZWO1b\"><img alt=\"\" class=\"yWs4tf\" src=\"https://encrypted-tbn0.gstatic.com/images?q=tbn:ANd9GcR3ZFK0A4umNXAAYD4om18k3x2BgBYqPuIywILpy7ckkNFY6U2shFp4v0czbQ&amp;s\"/></div></a></td></tr><tr><td><a href=\"/url?q=https://timesofindia.indiatimes.com/sports/cricket/india-in-bangladesh/virat-kohli-slams-72nd-international-ton-surpasses-ricky-ponting-to-go-second-behind-sachin-tendulkar/articleshow/96131593.cms&amp;sa=U&amp;ved=2ahUKEwjB4ffV0rWAAxXT1DgGHbDJB5YQr4kDegQIChAC&amp;usg=AOvVaw2LOXalcfY-VpRruVr5yP5i\"><div class=\"jB2rPd\"> <span class=\"qXLe6d x3G5ab\"> <span class=\"fYyStc\">Virat Kohli slams 72nd...</span> </span> <span class=\"qXLe6d F9iS2e\"> <span class=\"fYyStc\">timesofindia.indiatimes.com...</span> </span> </div></a></td></tr></table></div></div> </div> </div></td><td align=\"center\" class=\"e3goi\"><div class=\"mnTahd\"> <div> <div class=\"lIMUZd\"><div><table class=\"IkMU6e\"><tr><td><a href=\"/url?q=https://www.forbes.com/profile/virat-kohli/&amp;sa=U&amp;ved=2ahUKEwjB4ffV0rWAAxXT1DgGHbDJB5YQqoUBegQICRAB&amp;usg=AOvVaw2Nx6YeItDNdROhtUFLhp08\"><div class=\"NZWO1b\"><img alt=\"\" class=\"yWs4tf\" src=\"https://encrypted-tbn0.gstatic.com/images?q=tbn:ANd9GcQXhRozPeN_ofFzgMvQcHZvcplv3EpOrLtmrSnBG88kwoJo8RFn0Ev3aLykTYA&amp;s\"/></div></a></td></tr><tr><td><a href=\"/url?q=https://www.forbes.com/profile/virat-kohli/&amp;sa=U&amp;ved=2ahUKEwjB4ffV0rWAAxXT1DgGHbDJB5YQr4kDegQICRAC&amp;usg=AOvVaw3_m30-bLDQkFM2kC22-w0M\"><div class=\"jB2rPd\"> <span class=\"qXLe6d x3G5ab\"> <span class=\"fYyStc\">0x0.jpg?format=jpg&amp;crop=233...</span> </span> <span class=\"qXLe6d F9iS2e\"> <span class=\"fYyStc\">www.forbes.com</span> </span> </div></a></td></tr></table></div></div> </div> </div></td><td align=\"center\" class=\"e3goi\"><div class=\"mnTahd\"> <div> <div class=\"lIMUZd\"><div><table class=\"IkMU6e\"><tr><td><a href=\"/url?q=https://www.news18.com/cricketnext/virat-kohli-catch-ravindra-jadeja-ind-vs-wi-odi-witty-remark-stunner-kuldeep-yadav-bcci-8444713.html&amp;sa=U&amp;ved=2ahUKEwjB4ffV0rWAAxXT1DgGHbDJB5YQqoUBegQIDRAB&amp;usg=AOvVaw00B28QG2ze21T4U2hJ0xPo\"><div class=\"NZWO1b\"><img alt=\"\" class=\"yWs4tf\" src=\"https://encrypted-tbn0.gstatic.com/images?q=tbn:ANd9GcSMJqoYKnZTKlkFdcfNNAJJxMnQr_8MRPZkOKH0Vuc68Zy_ZEgoncXEjQGhl9E&amp;s\"/></div></a></td></tr><tr><td><a href=\"/url?q=https://www.news18.com/cricketnext/virat-kohli-catch-ravindra-jadeja-ind-vs-wi-odi-witty-remark-stunner-kuldeep-yadav-bcci-8444713.html&amp;sa=U&amp;ved=2ahUKEwjB4ffV0rWAAxXT1DgGHbDJB5YQr4kDegQIDRAC&amp;usg=AOvVaw1fveHdthW36No5utN-OKSa\"><div class=\"jB2rPd\"> <span class=\"qXLe6d x3G5ab\"> <span class=\"fYyStc\">Generally I Take Such...</span> </span> <span class=\"qXLe6d F9iS2e\"> <span class=\"fYyStc\">www.news18.com</span> </span> </div></a></td></tr></table></div></div> </div> </div></td><td align=\"center\" class=\"e3goi\"><div class=\"mnTahd\"> <div> <div class=\"lIMUZd\"><div><table class=\"IkMU6e\"><tr><td><a href=\"/url?q=https://www.indiatoday.in/sports/cricket/story/india-world-cup-2023-virat-kohli-virender-sehwag-schedule-announcement-2398542-2023-06-27&amp;sa=U&amp;ved=2ahUKEwjB4ffV0rWAAxXT1DgGHbDJB5YQqoUBegQIDhAB&amp;usg=AOvVaw3uQTDpbrXg-Z_Oo7VOJCqN\"><div class=\"NZWO1b\"><img alt=\"\" class=\"yWs4tf\" src=\"https://encrypted-tbn0.gstatic.com/images?q=tbn:ANd9GcT31MU-l5iezqCLOPE2jeiBB0geQsn8njIF0T290gdxybDBKMJOC5V1jM9QAg&amp;s\"/></div></a></td></tr><tr><td><a href=\"/url?q=https://www.indiatoday.in/sports/cricket/story/india-world-cup-2023-virat-kohli-virender-sehwag-schedule-announcement-2398542-2023-06-27&amp;sa=U&amp;ved=2ahUKEwjB4ffV0rWAAxXT1DgGHbDJB5YQr4kDegQIDhAC&amp;usg=AOvVaw03U4Vx9SJI6Zc6XVyY2xct\"><div class=\"jB2rPd\"> <span class=\"qXLe6d x3G5ab\"> <span class=\"fYyStc\">India would want to win the...</span> </span> <span class=\"qXLe6d F9iS2e\"> <span class=\"fYyStc\">www.indiatoday.in</span> </span> </div></a></td></tr></table></div></div> </div> </div></td></tr><tr><td align=\"center\" class=\"e3goi\"><div class=\"mnTahd\"> <div> <div class=\"lIMUZd\"><div><table class=\"IkMU6e\"><tr><td><a href=\"/url?q=https://mobcup.net/wallpapers/virat-kohli-hd&amp;sa=U&amp;ved=2ahUKEwjB4ffV0rWAAxXT1DgGHbDJB5YQqoUBegQIBxAB&amp;usg=AOvVaw0F8OVMf0otG642zT4EFrS2\"><div class=\"NZWO1b\"><img alt=\"\" class=\"yWs4tf\" src=\"https://encrypted-tbn0.gstatic.com/images?q=tbn:ANd9GcS8KTiPsdIdv6tCZuf-oRwHoP4zesJHEmjSw7cAb2DxIRKzl8eI7bxEupbJGQI&amp;s\"/></div></a></td></tr><tr><td><a href=\"/url?q=https://mobcup.net/wallpapers/virat-kohli-hd&amp;sa=U&amp;ved=2ahUKEwjB4ffV0rWAAxXT1DgGHbDJB5YQr4kDegQIBxAC&amp;usg=AOvVaw34pdnniepX944NmKD-qs1c\"><div class=\"jB2rPd\"> <span class=\"qXLe6d x3G5ab\"> <span class=\"fYyStc\">Virat kohli hd Wallpapers...</span> </span> <span class=\"qXLe6d F9iS2e\"> <span class=\"fYyStc\">mobcup.net</span> </span> </div></a></td></tr></table></div></div> </div> </div></td><td align=\"center\" class=\"e3goi\"><div class=\"mnTahd\"> <div> <div class=\"lIMUZd\"><div><table class=\"IkMU6e\"><tr><td><a href=\"/url?q=https://www.youtube.com/watch%3Fv%3DjkaBPZ5RqYY&amp;sa=U&amp;ved=2ahUKEwjB4ffV0rWAAxXT1DgGHbDJB5YQqoUBegQIBBAB&amp;usg=AOvVaw3TQXz6JIeOiZoRJTm_F9Hd\"><div class=\"NZWO1b\"><img alt=\"\" class=\"yWs4tf\" src=\"https://encrypted-tbn0.gstatic.com/images?q=tbn:ANd9GcSKkwzHFS4U0kvua9XC479QiQtxjGnoqlcQSEqrJwo8MQZ8b3LFZ0LIBrW5iHg&amp;s\"/></div></a></td></tr><tr><td><a href=\"/url?q=https://www.youtube.com/watch%3Fv%3DjkaBPZ5RqYY&amp;sa=U&amp;ved=2ahUKEwjB4ffV0rWAAxXT1DgGHbDJB5YQr4kDegQIBBAC&amp;usg=AOvVaw31mSAJEuJieDZJJoarlYjT\"><div class=\"jB2rPd\"> <span class=\"qXLe6d x3G5ab\"> <span class=\"fYyStc\">I Really Enjoyed Myself Out...</span> </span> <span class=\"qXLe6d F9iS2e\"> <span class=\"fYyStc\">www.youtube.com</span> </span> </div></a></td></tr></table></div></div> </div> </div></td><td align=\"center\" class=\"e3goi\"><div class=\"mnTahd\"> <div> <div class=\"lIMUZd\"><div><table class=\"IkMU6e\"><tr><td><a href=\"/url?q=https://nationaltoday.com/birthday/virat-kohli/&amp;sa=U&amp;ved=2ahUKEwjB4ffV0rWAAxXT1DgGHbDJB5YQqoUBegQIABAB&amp;usg=AOvVaw0pSFYhsSbuaLJuRDnASpTu\"><div class=\"NZWO1b\"><img alt=\"\" class=\"yWs4tf\" src=\"https://encrypted-tbn0.gstatic.com/images?q=tbn:ANd9GcRLqGxMbCeVkZIDV3mQfmlpSxuBcW4YTlZBp78_utfaZ7ACU-1GI0fyT3cQVA&amp;s\"/></div></a></td></tr><tr><td><a href=\"/url?q=https://nationaltoday.com/birthday/virat-kohli/&amp;sa=U&amp;ved=2ahUKEwjB4ffV0rWAAxXT1DgGHbDJB5YQr4kDegQIABAC&amp;usg=AOvVaw3PHdQw6lzWu6Z8B8EB6bOP\"><div class=\"jB2rPd\"> <span class=\"qXLe6d x3G5ab\"> <span class=\"fYyStc\">Virat Kohli - Age, Bio,...</span> </span> <span class=\"qXLe6d F9iS2e\"> <span class=\"fYyStc\">nationaltoday.com</span> </span> </div></a></td></tr></table></div></div> </div> </div></td><td align=\"center\" class=\"e3goi\"><div class=\"mnTahd\"> <div> <div class=\"lIMUZd\"><div><table class=\"IkMU6e\"><tr><td><a href=\"/url?q=https://www.timesnownews.com/web-stories/sports/list-of-nine-records-held-by-virat-kohli-in-international-cricket/photostory/102229371.cms&amp;sa=U&amp;ved=2ahUKEwjB4ffV0rWAAxXT1DgGHbDJB5YQqoUBegQICBAB&amp;usg=AOvVaw0cyV760WyaQ_Vrc5jI7kls\"><div class=\"NZWO1b\"><img alt=\"\" class=\"yWs4tf\" src=\"https://encrypted-tbn0.gstatic.com/images?q=tbn:ANd9GcQz1h5vqbpKCOG3xAMSXd-37-mUSqoT6aWhA6SHEkI7cjcPQlcJrgvPqHlWHyU&amp;s\"/></div></a></td></tr><tr><td><a href=\"/url?q=https://www.timesnownews.com/web-stories/sports/list-of-nine-records-held-by-virat-kohli-in-international-cricket/photostory/102229371.cms&amp;sa=U&amp;ved=2ahUKEwjB4ffV0rWAAxXT1DgGHbDJB5YQr4kDegQICBAC&amp;usg=AOvVaw1MUia_NJ0eKGStYOV7u-5u\"><div class=\"jB2rPd\"> <span class=\"qXLe6d x3G5ab\"> <span class=\"fYyStc\">9 Records Held By Virat...</span> </span> <span class=\"qXLe6d F9iS2e\"> <span class=\"fYyStc\">www.timesnownews.com</span> </span> </div></a></td></tr></table></div></div> </div> </div></td></tr><tr><td align=\"center\" class=\"e3goi\"><div class=\"mnTahd\"> <div> <div class=\"lIMUZd\"><div><table class=\"IkMU6e\"><tr><td><a href=\"/url?q=https://www.telegraphindia.com/sports/cricket/in-challenges-virat-kohli-discovers-crickets-beauty/cid/1922557&amp;sa=U&amp;ved=2ahUKEwjB4ffV0rWAAxXT1DgGHbDJB5YQqoUBegQIBRAB&amp;usg=AOvVaw2encjdQtrnXLiUwQ3V44Tm\"><div class=\"NZWO1b\"><img alt=\"\" class=\"yWs4tf\" src=\"https://encrypted-tbn0.gstatic.com/images?q=tbn:ANd9GcT8x89pLXeMNlm4-Nrjk8kFn2NfKoBA8NLYSyJKnbM6EG-2EewQgiKttVsWrEE&amp;s\"/></div></a></td></tr><tr><td><a href=\"/url?q=https://www.telegraphindia.com/sports/cricket/in-challenges-virat-kohli-discovers-crickets-beauty/cid/1922557&amp;sa=U&amp;ved=2ahUKEwjB4ffV0rWAAxXT1DgGHbDJB5YQr4kDegQIBRAC&amp;usg=AOvVaw2_EKAwXf95gQ7LJFi0eo48\"><div class=\"jB2rPd\"> <span class=\"qXLe6d x3G5ab\"> <span class=\"fYyStc\">Test Cricket | In...</span> </span> <span class=\"qXLe6d F9iS2e\"> <span class=\"fYyStc\">www.telegraphindia.com</span> </span> </div></a></td></tr></table></div></div> </div> </div></td><td align=\"center\" class=\"e3goi\"><div class=\"mnTahd\"> <div> <div class=\"lIMUZd\"><div><table class=\"IkMU6e\"><tr><td><a href=\"/url?q=https://www.livemint.com/sports/cricket-news/virat-kohli-vs-sachin-tendulkar-all-records-who-is-better-west-indies-legend-curtly-ambrose-says-this-11690356914978.html&amp;sa=U&amp;ved=2ahUKEwjB4ffV0rWAAxXT1DgGHbDJB5YQqoUBegQIARAB&amp;usg=AOvVaw0aQu6gKjcBZCmIznLIHdU_\"><div class=\"NZWO1b\"><img alt=\"\" class=\"yWs4tf\" src=\"https://encrypted-tbn0.gstatic.com/images?q=tbn:ANd9GcTbLaVUkOldonRMTG3L9injnOpQmQrT-CSrGhPR6CwxhHR7g09Mi7Xhm9HWF1c&amp;s\"/></div></a></td></tr><tr><td><a href=\"/url?q=https://www.livemint.com/sports/cricket-news/virat-kohli-vs-sachin-tendulkar-all-records-who-is-better-west-indies-legend-curtly-ambrose-says-this-11690356914978.html&amp;sa=U&amp;ved=2ahUKEwjB4ffV0rWAAxXT1DgGHbDJB5YQr4kDegQIARAC&amp;usg=AOvVaw33aOlW6URRMizcNmW7HsGd\"><div class=\"jB2rPd\"> <span class=\"qXLe6d x3G5ab\"> <span class=\"fYyStc\">Virat Kohli vs Sachin...</span> </span> <span class=\"qXLe6d F9iS2e\"> <span class=\"fYyStc\">www.livemint.com</span> </span> </div></a></td></tr></table></div></div> </div> </div></td><td align=\"center\" class=\"e3goi\"><div class=\"mnTahd\"> <div> <div class=\"lIMUZd\"><div><table class=\"IkMU6e\"><tr><td><a href=\"/url?q=https://english.jagran.com/cricket/only-way-to-make-sense-out-of-change-virat-kohli-post-another-cryptic-story-post-wtc-final-loss-10082847&amp;sa=U&amp;ved=2ahUKEwjB4ffV0rWAAxXT1DgGHbDJB5YQqoUBegQIBhAB&amp;usg=AOvVaw37h20_hTEkxQf1XR2zY9iI\"><div class=\"NZWO1b\"><img alt=\"\" class=\"yWs4tf\" src=\"https://encrypted-tbn0.gstatic.com/images?q=tbn:ANd9GcRGYkG5ICR8iRwn42yp2Da-6lzhYbfwoAAIk4KKLlZMlPuP4czNJSzqEMO_HI0&amp;s\"/></div></a></td></tr><tr><td><a href=\"/url?q=https://english.jagran.com/cricket/only-way-to-make-sense-out-of-change-virat-kohli-post-another-cryptic-story-post-wtc-final-loss-10082847&amp;sa=U&amp;ved=2ahUKEwjB4ffV0rWAAxXT1DgGHbDJB5YQr4kDegQIBhAC&amp;usg=AOvVaw0dKeR819VjsjPr2dt-tcEE\"><div class=\"jB2rPd\"> <span class=\"qXLe6d x3G5ab\"> <span class=\"fYyStc\">Virat Kohli Posts Another...</span> </span> <span class=\"qXLe6d F9iS2e\"> <span class=\"fYyStc\">english.jagran.com</span> </span> </div></a></td></tr></table></div></div> </div> </div></td><td align=\"center\" class=\"e3goi\"><div class=\"mnTahd\"> <div> <div class=\"lIMUZd\"><div><table class=\"IkMU6e\"><tr><td><a href=\"/url?q=https://m.rediff.com/cricket/report/we-have-got-back-the-original-virat-kohli/20230117.htm&amp;sa=U&amp;ved=2ahUKEwjB4ffV0rWAAxXT1DgGHbDJB5YQqoUBegQIAhAB&amp;usg=AOvVaw23BQHJvGSf4RI9lGvkI3kr\"><div class=\"NZWO1b\"><img alt=\"\" class=\"yWs4tf\" src=\"https://encrypted-tbn0.gstatic.com/images?q=tbn:ANd9GcR31yH7qlDziUlJXlHkXWecPZWAX-UXw5HvmxOTVjhraNS4IrYozrED5TWnDQ&amp;s\"/></div></a></td></tr><tr><td><a href=\"/url?q=https://m.rediff.com/cricket/report/we-have-got-back-the-original-virat-kohli/20230117.htm&amp;sa=U&amp;ved=2ahUKEwjB4ffV0rWAAxXT1DgGHbDJB5YQr4kDegQIAhAC&amp;usg=AOvVaw2ukGGPVxCf66_bX6Hc1XCl\"><div class=\"jB2rPd\"> <span class=\"qXLe6d x3G5ab\"> <span class=\"fYyStc\">We have got back the...</span> </span> <span class=\"qXLe6d F9iS2e\"> <span class=\"fYyStc\">m.rediff.com</span> </span> </div></a></td></tr></table></div></div> </div> </div></td></tr></table></div><table class=\"uZgmoc\"><tbody><td><a class=\"frGj1b\" href=\"/search?q=virat+kohli&amp;bih=714&amp;biw=1482&amp;ie=UTF-8&amp;tbm=isch&amp;ei=_u3FZMHqE9Op4-EPsJOfsAk&amp;start=20&amp;sa=N\">Next &gt;</a></td></tbody></table><br/><div class=\"TuS8Ad\" data-ved=\"0ahUKEwjB4ffV0rWAAxXT1DgGHbDJB5YQpyoIVg\"><style>.VYM29{font-weight:bold}</style><div align=\"center\" class=\"HddGcc\"><span class=\"VYM29\">201206, Uttar Pradesh</span><span> - </span><span>From your IP address</span><span> - </span><a href=\"/url?q=https://support.google.com/websearch%3Fp%3Dws_settings_location%26hl%3Den-IN&amp;sa=U&amp;ved=0ahUKEwjB4ffV0rWAAxXT1DgGHbDJB5YQty4IVw&amp;usg=AOvVaw2jnGFtbhTZDe5m2S0tXtJs\">Learn more</a></div><div align=\"center\"><a class=\"rEM8G\" href=\"/url?q=https://accounts.google.com/ServiceLogin%3Fcontinue%3Dhttps://www.google.co.in/search%253Fq%253Dvirat%252Bkholi%2526tbm%253Disch%2526ved%253D2ahUKEwiFypqcy7WAAxVZ7DgGHcnCDSQQ2-cCegQIABAA%2526oq%253Delon%252Bmusk%2526gs_lcp%253DCgNpbWcQAzIKCAAQigUQsQMQQzIICAAQgAQQsQMyCggAEIoFELEDEEMyCggAEIoFELEDEEMyCAgAEIAEELEDMggIABCABBCxAzIICAAQgAQQsQMyCAgAEIAEELEDMggIABCABBCxAzIICAAQgAQQsQM6DQgAEIoFELEDEIMBEEM6BAgAEAM6CwgAEIAEELEDEIMBOgUIABCABDoICAAQsQMQgwE6BwgAEIoFEENQ9wlY4Rhg7hxoAHAAeACAAYIBiAGSCZIBBDAuMTCYAQCgAQGqAQtnd3Mtd2l6LWltZ8ABAQ%2526sclient%253Dimg%2526ei%253DLubFZIX7DNnY4-EPyYW3oAI%2526bih%253D714%2526biw%253D1482%26hl%3Den&amp;sa=U&amp;ved=0ahUKEwjB4ffV0rWAAxXT1DgGHbDJB5YQxs8CCFg&amp;usg=AOvVaw3zfdLvglzafIHWoalczV38\">Sign in</a></div><div><table class=\"bookcf\"><tbody class=\"InWNIe\"><tr><td><a class=\"rEM8G\" href=\"https://www.google.co.in/preferences?hl=en&amp;sa=X&amp;ved=0ahUKEwjB4ffV0rWAAxXT1DgGHbDJB5YQv5YECFk\">Settings</a></td><td><a class=\"rEM8G\" href=\"https://www.google.co.in/intl/en_in/policies/privacy/\">Privacy</a></td><td><a class=\"rEM8G\" href=\"https://www.google.co.in/intl/en_in/policies/terms/\">Terms</a></td></tr></tbody></table></div></div><div> </div></body></html>"
      ]
     },
     "execution_count": 33,
     "metadata": {},
     "output_type": "execute_result"
    }
   ],
   "source": [
    "Soup"
   ]
  },
  {
   "cell_type": "code",
   "execution_count": 34,
   "metadata": {},
   "outputs": [
    {
     "data": {
      "text/plain": [
       "[<img alt=\"Google\" class=\"kgJEQe\" src=\"/images/branding/searchlogo/1x/googlelogo_desk_heirloom_color_150x55dp.gif\"/>,\n",
       " <img alt=\"\" class=\"yWs4tf\" src=\"https://encrypted-tbn0.gstatic.com/images?q=tbn:ANd9GcSApOD8cC7Jh33c0VqbcFkcmx0og9wr1DYsD50a8Tp3p-0I33M_SuuLXA0Kizk&amp;s\"/>,\n",
       " <img alt=\"\" class=\"yWs4tf\" src=\"https://encrypted-tbn0.gstatic.com/images?q=tbn:ANd9GcS9C58BNcMmQwtKOOVPr2QxPHvO0WyNIRF5XejM_bsxPzCH1IyGGEB2t2o2tlg&amp;s\"/>,\n",
       " <img alt=\"\" class=\"yWs4tf\" src=\"https://encrypted-tbn0.gstatic.com/images?q=tbn:ANd9GcQCfkyyXvEcnRtcJK8pjwyUIUlRY2u0Dc29_uLZWlfkNwlm4eScqvZgTCz0w7I&amp;s\"/>,\n",
       " <img alt=\"\" class=\"yWs4tf\" src=\"https://encrypted-tbn0.gstatic.com/images?q=tbn:ANd9GcSDzghEWlDVR4HINdcej04lBxbi1aoTL_CPHZh2TfFntrG95uCrdJ1ObDS4cA&amp;s\"/>,\n",
       " <img alt=\"\" class=\"yWs4tf\" src=\"https://encrypted-tbn0.gstatic.com/images?q=tbn:ANd9GcRZJo33H9n0_WI5mo6qPjFFxMNOnC6gKTatQcX4aVQVlSZDmBsXBdfl3W__mw&amp;s\"/>,\n",
       " <img alt=\"\" class=\"yWs4tf\" src=\"https://encrypted-tbn0.gstatic.com/images?q=tbn:ANd9GcRxlnSKBB-rt4QOMMJQGrXOOsqG6yPbmCwEqBEqHkkvt8AV2DTnkCMAHsro4qc&amp;s\"/>,\n",
       " <img alt=\"\" class=\"yWs4tf\" src=\"https://encrypted-tbn0.gstatic.com/images?q=tbn:ANd9GcTQisRy9KKPpaR789gUkso2hXdR_nmiUys7sAz5OBHssfxQcCNVOkVb8LmRZQ&amp;s\"/>,\n",
       " <img alt=\"\" class=\"yWs4tf\" src=\"https://encrypted-tbn0.gstatic.com/images?q=tbn:ANd9GcRaA9tOiDkcFIEnon99DX1fCf3rtk0yCtEm3i8iC5SYFS66OmKNWNI0vaQKTg&amp;s\"/>,\n",
       " <img alt=\"\" class=\"yWs4tf\" src=\"https://encrypted-tbn0.gstatic.com/images?q=tbn:ANd9GcR3ZFK0A4umNXAAYD4om18k3x2BgBYqPuIywILpy7ckkNFY6U2shFp4v0czbQ&amp;s\"/>,\n",
       " <img alt=\"\" class=\"yWs4tf\" src=\"https://encrypted-tbn0.gstatic.com/images?q=tbn:ANd9GcQXhRozPeN_ofFzgMvQcHZvcplv3EpOrLtmrSnBG88kwoJo8RFn0Ev3aLykTYA&amp;s\"/>,\n",
       " <img alt=\"\" class=\"yWs4tf\" src=\"https://encrypted-tbn0.gstatic.com/images?q=tbn:ANd9GcSMJqoYKnZTKlkFdcfNNAJJxMnQr_8MRPZkOKH0Vuc68Zy_ZEgoncXEjQGhl9E&amp;s\"/>,\n",
       " <img alt=\"\" class=\"yWs4tf\" src=\"https://encrypted-tbn0.gstatic.com/images?q=tbn:ANd9GcT31MU-l5iezqCLOPE2jeiBB0geQsn8njIF0T290gdxybDBKMJOC5V1jM9QAg&amp;s\"/>,\n",
       " <img alt=\"\" class=\"yWs4tf\" src=\"https://encrypted-tbn0.gstatic.com/images?q=tbn:ANd9GcS8KTiPsdIdv6tCZuf-oRwHoP4zesJHEmjSw7cAb2DxIRKzl8eI7bxEupbJGQI&amp;s\"/>,\n",
       " <img alt=\"\" class=\"yWs4tf\" src=\"https://encrypted-tbn0.gstatic.com/images?q=tbn:ANd9GcSKkwzHFS4U0kvua9XC479QiQtxjGnoqlcQSEqrJwo8MQZ8b3LFZ0LIBrW5iHg&amp;s\"/>,\n",
       " <img alt=\"\" class=\"yWs4tf\" src=\"https://encrypted-tbn0.gstatic.com/images?q=tbn:ANd9GcRLqGxMbCeVkZIDV3mQfmlpSxuBcW4YTlZBp78_utfaZ7ACU-1GI0fyT3cQVA&amp;s\"/>,\n",
       " <img alt=\"\" class=\"yWs4tf\" src=\"https://encrypted-tbn0.gstatic.com/images?q=tbn:ANd9GcQz1h5vqbpKCOG3xAMSXd-37-mUSqoT6aWhA6SHEkI7cjcPQlcJrgvPqHlWHyU&amp;s\"/>,\n",
       " <img alt=\"\" class=\"yWs4tf\" src=\"https://encrypted-tbn0.gstatic.com/images?q=tbn:ANd9GcT8x89pLXeMNlm4-Nrjk8kFn2NfKoBA8NLYSyJKnbM6EG-2EewQgiKttVsWrEE&amp;s\"/>,\n",
       " <img alt=\"\" class=\"yWs4tf\" src=\"https://encrypted-tbn0.gstatic.com/images?q=tbn:ANd9GcTbLaVUkOldonRMTG3L9injnOpQmQrT-CSrGhPR6CwxhHR7g09Mi7Xhm9HWF1c&amp;s\"/>,\n",
       " <img alt=\"\" class=\"yWs4tf\" src=\"https://encrypted-tbn0.gstatic.com/images?q=tbn:ANd9GcRGYkG5ICR8iRwn42yp2Da-6lzhYbfwoAAIk4KKLlZMlPuP4czNJSzqEMO_HI0&amp;s\"/>,\n",
       " <img alt=\"\" class=\"yWs4tf\" src=\"https://encrypted-tbn0.gstatic.com/images?q=tbn:ANd9GcR31yH7qlDziUlJXlHkXWecPZWAX-UXw5HvmxOTVjhraNS4IrYozrED5TWnDQ&amp;s\"/>]"
      ]
     },
     "execution_count": 34,
     "metadata": {},
     "output_type": "execute_result"
    }
   ],
   "source": [
    "image_tags=Soup.find_all(\"img\")\n",
    "image_tags"
   ]
  },
  {
   "cell_type": "code",
   "execution_count": 35,
   "metadata": {},
   "outputs": [],
   "source": [
    "del image_tags[0]"
   ]
  },
  {
   "cell_type": "code",
   "execution_count": 36,
   "metadata": {},
   "outputs": [
    {
     "data": {
      "text/plain": [
       "20"
      ]
     },
     "execution_count": 36,
     "metadata": {},
     "output_type": "execute_result"
    }
   ],
   "source": [
    "len(image_tags)"
   ]
  },
  {
   "cell_type": "code",
   "execution_count": 37,
   "metadata": {},
   "outputs": [
    {
     "name": "stdout",
     "output_type": "stream",
     "text": [
      "https://encrypted-tbn0.gstatic.com/images?q=tbn:ANd9GcSApOD8cC7Jh33c0VqbcFkcmx0og9wr1DYsD50a8Tp3p-0I33M_SuuLXA0Kizk&s\n",
      "https://encrypted-tbn0.gstatic.com/images?q=tbn:ANd9GcS9C58BNcMmQwtKOOVPr2QxPHvO0WyNIRF5XejM_bsxPzCH1IyGGEB2t2o2tlg&s\n",
      "https://encrypted-tbn0.gstatic.com/images?q=tbn:ANd9GcQCfkyyXvEcnRtcJK8pjwyUIUlRY2u0Dc29_uLZWlfkNwlm4eScqvZgTCz0w7I&s\n",
      "https://encrypted-tbn0.gstatic.com/images?q=tbn:ANd9GcSDzghEWlDVR4HINdcej04lBxbi1aoTL_CPHZh2TfFntrG95uCrdJ1ObDS4cA&s\n",
      "https://encrypted-tbn0.gstatic.com/images?q=tbn:ANd9GcRZJo33H9n0_WI5mo6qPjFFxMNOnC6gKTatQcX4aVQVlSZDmBsXBdfl3W__mw&s\n",
      "https://encrypted-tbn0.gstatic.com/images?q=tbn:ANd9GcRxlnSKBB-rt4QOMMJQGrXOOsqG6yPbmCwEqBEqHkkvt8AV2DTnkCMAHsro4qc&s\n",
      "https://encrypted-tbn0.gstatic.com/images?q=tbn:ANd9GcTQisRy9KKPpaR789gUkso2hXdR_nmiUys7sAz5OBHssfxQcCNVOkVb8LmRZQ&s\n",
      "https://encrypted-tbn0.gstatic.com/images?q=tbn:ANd9GcRaA9tOiDkcFIEnon99DX1fCf3rtk0yCtEm3i8iC5SYFS66OmKNWNI0vaQKTg&s\n",
      "https://encrypted-tbn0.gstatic.com/images?q=tbn:ANd9GcR3ZFK0A4umNXAAYD4om18k3x2BgBYqPuIywILpy7ckkNFY6U2shFp4v0czbQ&s\n",
      "https://encrypted-tbn0.gstatic.com/images?q=tbn:ANd9GcQXhRozPeN_ofFzgMvQcHZvcplv3EpOrLtmrSnBG88kwoJo8RFn0Ev3aLykTYA&s\n",
      "https://encrypted-tbn0.gstatic.com/images?q=tbn:ANd9GcSMJqoYKnZTKlkFdcfNNAJJxMnQr_8MRPZkOKH0Vuc68Zy_ZEgoncXEjQGhl9E&s\n",
      "https://encrypted-tbn0.gstatic.com/images?q=tbn:ANd9GcT31MU-l5iezqCLOPE2jeiBB0geQsn8njIF0T290gdxybDBKMJOC5V1jM9QAg&s\n",
      "https://encrypted-tbn0.gstatic.com/images?q=tbn:ANd9GcS8KTiPsdIdv6tCZuf-oRwHoP4zesJHEmjSw7cAb2DxIRKzl8eI7bxEupbJGQI&s\n",
      "https://encrypted-tbn0.gstatic.com/images?q=tbn:ANd9GcSKkwzHFS4U0kvua9XC479QiQtxjGnoqlcQSEqrJwo8MQZ8b3LFZ0LIBrW5iHg&s\n",
      "https://encrypted-tbn0.gstatic.com/images?q=tbn:ANd9GcRLqGxMbCeVkZIDV3mQfmlpSxuBcW4YTlZBp78_utfaZ7ACU-1GI0fyT3cQVA&s\n",
      "https://encrypted-tbn0.gstatic.com/images?q=tbn:ANd9GcQz1h5vqbpKCOG3xAMSXd-37-mUSqoT6aWhA6SHEkI7cjcPQlcJrgvPqHlWHyU&s\n",
      "https://encrypted-tbn0.gstatic.com/images?q=tbn:ANd9GcT8x89pLXeMNlm4-Nrjk8kFn2NfKoBA8NLYSyJKnbM6EG-2EewQgiKttVsWrEE&s\n",
      "https://encrypted-tbn0.gstatic.com/images?q=tbn:ANd9GcTbLaVUkOldonRMTG3L9injnOpQmQrT-CSrGhPR6CwxhHR7g09Mi7Xhm9HWF1c&s\n",
      "https://encrypted-tbn0.gstatic.com/images?q=tbn:ANd9GcRGYkG5ICR8iRwn42yp2Da-6lzhYbfwoAAIk4KKLlZMlPuP4czNJSzqEMO_HI0&s\n",
      "https://encrypted-tbn0.gstatic.com/images?q=tbn:ANd9GcR31yH7qlDziUlJXlHkXWecPZWAX-UXw5HvmxOTVjhraNS4IrYozrED5TWnDQ&s\n"
     ]
    }
   ],
   "source": [
    "image_src=[]\n",
    "for i in image_tags:\n",
    "    print(i[\"src\"])\n",
    "    image_src.append(i[\"src\"])"
   ]
  },
  {
   "cell_type": "code",
   "execution_count": 38,
   "metadata": {},
   "outputs": [
    {
     "name": "stdout",
     "output_type": "stream",
     "text": [
      "https://encrypted-tbn0.gstatic.com/images?q=tbn:ANd9GcSApOD8cC7Jh33c0VqbcFkcmx0og9wr1DYsD50a8Tp3p-0I33M_SuuLXA0Kizk&s\n",
      "https://encrypted-tbn0.gstatic.com/images?q=tbn:ANd9GcS9C58BNcMmQwtKOOVPr2QxPHvO0WyNIRF5XejM_bsxPzCH1IyGGEB2t2o2tlg&s\n",
      "https://encrypted-tbn0.gstatic.com/images?q=tbn:ANd9GcQCfkyyXvEcnRtcJK8pjwyUIUlRY2u0Dc29_uLZWlfkNwlm4eScqvZgTCz0w7I&s\n",
      "https://encrypted-tbn0.gstatic.com/images?q=tbn:ANd9GcSDzghEWlDVR4HINdcej04lBxbi1aoTL_CPHZh2TfFntrG95uCrdJ1ObDS4cA&s\n",
      "https://encrypted-tbn0.gstatic.com/images?q=tbn:ANd9GcRZJo33H9n0_WI5mo6qPjFFxMNOnC6gKTatQcX4aVQVlSZDmBsXBdfl3W__mw&s\n",
      "https://encrypted-tbn0.gstatic.com/images?q=tbn:ANd9GcRxlnSKBB-rt4QOMMJQGrXOOsqG6yPbmCwEqBEqHkkvt8AV2DTnkCMAHsro4qc&s\n",
      "https://encrypted-tbn0.gstatic.com/images?q=tbn:ANd9GcTQisRy9KKPpaR789gUkso2hXdR_nmiUys7sAz5OBHssfxQcCNVOkVb8LmRZQ&s\n",
      "https://encrypted-tbn0.gstatic.com/images?q=tbn:ANd9GcRaA9tOiDkcFIEnon99DX1fCf3rtk0yCtEm3i8iC5SYFS66OmKNWNI0vaQKTg&s\n",
      "https://encrypted-tbn0.gstatic.com/images?q=tbn:ANd9GcR3ZFK0A4umNXAAYD4om18k3x2BgBYqPuIywILpy7ckkNFY6U2shFp4v0czbQ&s\n",
      "https://encrypted-tbn0.gstatic.com/images?q=tbn:ANd9GcQXhRozPeN_ofFzgMvQcHZvcplv3EpOrLtmrSnBG88kwoJo8RFn0Ev3aLykTYA&s\n",
      "https://encrypted-tbn0.gstatic.com/images?q=tbn:ANd9GcSMJqoYKnZTKlkFdcfNNAJJxMnQr_8MRPZkOKH0Vuc68Zy_ZEgoncXEjQGhl9E&s\n",
      "https://encrypted-tbn0.gstatic.com/images?q=tbn:ANd9GcT31MU-l5iezqCLOPE2jeiBB0geQsn8njIF0T290gdxybDBKMJOC5V1jM9QAg&s\n",
      "https://encrypted-tbn0.gstatic.com/images?q=tbn:ANd9GcS8KTiPsdIdv6tCZuf-oRwHoP4zesJHEmjSw7cAb2DxIRKzl8eI7bxEupbJGQI&s\n",
      "https://encrypted-tbn0.gstatic.com/images?q=tbn:ANd9GcSKkwzHFS4U0kvua9XC479QiQtxjGnoqlcQSEqrJwo8MQZ8b3LFZ0LIBrW5iHg&s\n",
      "https://encrypted-tbn0.gstatic.com/images?q=tbn:ANd9GcRLqGxMbCeVkZIDV3mQfmlpSxuBcW4YTlZBp78_utfaZ7ACU-1GI0fyT3cQVA&s\n",
      "https://encrypted-tbn0.gstatic.com/images?q=tbn:ANd9GcQz1h5vqbpKCOG3xAMSXd-37-mUSqoT6aWhA6SHEkI7cjcPQlcJrgvPqHlWHyU&s\n",
      "https://encrypted-tbn0.gstatic.com/images?q=tbn:ANd9GcT8x89pLXeMNlm4-Nrjk8kFn2NfKoBA8NLYSyJKnbM6EG-2EewQgiKttVsWrEE&s\n",
      "https://encrypted-tbn0.gstatic.com/images?q=tbn:ANd9GcTbLaVUkOldonRMTG3L9injnOpQmQrT-CSrGhPR6CwxhHR7g09Mi7Xhm9HWF1c&s\n",
      "https://encrypted-tbn0.gstatic.com/images?q=tbn:ANd9GcRGYkG5ICR8iRwn42yp2Da-6lzhYbfwoAAIk4KKLlZMlPuP4czNJSzqEMO_HI0&s\n",
      "https://encrypted-tbn0.gstatic.com/images?q=tbn:ANd9GcR31yH7qlDziUlJXlHkXWecPZWAX-UXw5HvmxOTVjhraNS4IrYozrED5TWnDQ&s\n"
     ]
    }
   ],
   "source": [
    "for i in  image_src:\n",
    "    print(i)"
   ]
  },
  {
   "cell_type": "code",
   "execution_count": 39,
   "metadata": {},
   "outputs": [],
   "source": [
    "for i in image_tags:\n",
    "    image_url = i['src']\n",
    "    image_data=requests.get(image_url).content \n",
    "    with open(os.path.join(save_dir,f\"{query}_{image_tags.index(i)}.jpg\"),\"wb\") as f:# wb : write byte data\n",
    "        f.write(image_data)"
   ]
  },
  {
   "cell_type": "code",
   "execution_count": null,
   "metadata": {},
   "outputs": [],
   "source": []
  }
 ],
 "metadata": {
  "kernelspec": {
   "display_name": "Python 3",
   "language": "python",
   "name": "python3"
  },
  "language_info": {
   "codemirror_mode": {
    "name": "ipython",
    "version": 3
   },
   "file_extension": ".py",
   "mimetype": "text/x-python",
   "name": "python",
   "nbconvert_exporter": "python",
   "pygments_lexer": "ipython3",
   "version": "3.11.4"
  },
  "orig_nbformat": 4
 },
 "nbformat": 4,
 "nbformat_minor": 2
}
